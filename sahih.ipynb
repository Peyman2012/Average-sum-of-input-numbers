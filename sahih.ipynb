{
 "cells": [
  {
   "cell_type": "code",
   "execution_count": 3,
   "metadata": {},
   "outputs": [
    {
     "name": "stdout",
     "output_type": "stream",
     "text": [
      "Enter several number:3\n"
     ]
    }
   ],
   "source": [
    "b=int(input(\"Enter several number:\"))"
   ]
  },
  {
   "cell_type": "code",
   "execution_count": 5,
   "metadata": {},
   "outputs": [
    {
     "name": "stdout",
     "output_type": "stream",
     "text": [
      "Enter a number:3\n",
      "Enter a number:75\n",
      "Enter a number:12\n",
      "Enter a number:14\n",
      "Sum is  104\n",
      "Averange is  34.666666666666664\n"
     ]
    }
   ],
   "source": [
    "sum=0\n",
    "avr=0\n",
    "for i in range(0,b+1):\n",
    "    a=int(input(\"Enter a number:\"))\n",
    "    sum+=a\n",
    "avr=sum/b\n",
    "print(\"Sum is \",sum)\n",
    "print(\"Averange is \",avr)"
   ]
  },
  {
   "cell_type": "code",
   "execution_count": null,
   "metadata": {},
   "outputs": [],
   "source": []
  }
 ],
 "metadata": {
  "kernelspec": {
   "display_name": "Python 3",
   "language": "python",
   "name": "python3"
  },
  "language_info": {
   "codemirror_mode": {
    "name": "ipython",
    "version": 3
   },
   "file_extension": ".py",
   "mimetype": "text/x-python",
   "name": "python",
   "nbconvert_exporter": "python",
   "pygments_lexer": "ipython3",
   "version": "3.6.13"
  }
 },
 "nbformat": 4,
 "nbformat_minor": 2
}
